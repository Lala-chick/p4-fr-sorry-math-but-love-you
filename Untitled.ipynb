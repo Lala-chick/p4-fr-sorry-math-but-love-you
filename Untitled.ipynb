{
 "cells": [
  {
   "cell_type": "code",
   "execution_count": 2,
   "id": "d273343b-766e-413f-8b0d-a0e4fcd4f9cf",
   "metadata": {},
   "outputs": [],
   "source": [
    "import timm\n",
    "import torch"
   ]
  },
  {
   "cell_type": "code",
   "execution_count": 3,
   "id": "1e722146-db2e-4db5-b187-7e39f76fec82",
   "metadata": {},
   "outputs": [],
   "source": [
    "effmodel = timm.create_model('tf_efficientnet_b4_ns')"
   ]
  },
  {
   "cell_type": "code",
   "execution_count": 1,
   "id": "73ee3965-7836-414f-b362-4abf96f34e95",
   "metadata": {},
   "outputs": [
    {
     "name": "stdout",
     "output_type": "stream",
     "text": [
      "/opt/ml\n"
     ]
    }
   ],
   "source": [
    "cd"
   ]
  },
  {
   "cell_type": "code",
   "execution_count": 6,
   "id": "3b3f9401-0adf-4a03-a21a-d92041500809",
   "metadata": {},
   "outputs": [],
   "source": [
    "conv_stem = effmodel.conv_stem\n",
    "bn1 = effmodel.bn1\n",
    "act1 = effmodel.act1\n",
    "blocks = effmodel.blocks"
   ]
  },
  {
   "cell_type": "code",
   "execution_count": 7,
   "id": "c8f15829-df44-47dd-b808-0819b10bec23",
   "metadata": {},
   "outputs": [],
   "source": [
    "a = torch.randn(3,3,128,128)"
   ]
  },
  {
   "cell_type": "code",
   "execution_count": 8,
   "id": "c7fe3f67-f442-42e6-b6fb-5aa18a708b37",
   "metadata": {},
   "outputs": [
    {
     "data": {
      "text/plain": [
       "torch.Size([3, 448, 4, 4])"
      ]
     },
     "execution_count": 8,
     "metadata": {},
     "output_type": "execute_result"
    }
   ],
   "source": [
    "b = conv_stem(a)\n",
    "b = bn1(b)\n",
    "b = act1(b)\n",
    "b = blocks(b)\n",
    "b.shape"
   ]
  },
  {
   "cell_type": "code",
   "execution_count": 2,
   "id": "e845969b-298c-43f4-a193-418eca696578",
   "metadata": {},
   "outputs": [],
   "source": [
    "import numpy as np\n",
    "import matplotlib.pyplot as plt"
   ]
  },
  {
   "cell_type": "code",
   "execution_count": 129,
   "id": "d3c9a3fd-6ea6-4f1c-bb6f-c9afbbab4331",
   "metadata": {},
   "outputs": [],
   "source": [
    "tf_max = 1.0\n",
    "tf_min = 0.4\n",
    "num_steps = 1000*100\n",
    "\n",
    "diff = tf_max - tf_min\n",
    "inflection = int(num_steps * 0.1)\n",
    "\n",
    "x = np.linspace(-5, 7, num_steps)\n",
    "x = -np.arctan(x)\n",
    "x -= x[-1]\n",
    "x *= (diff/x[0])\n",
    "x += tf_min\n",
    "x = x[inflection:]"
   ]
  },
  {
   "cell_type": "code",
   "execution_count": 130,
   "id": "ab945f48-3d80-4a3f-9ceb-2e3e40313529",
   "metadata": {},
   "outputs": [
    {
     "data": {
      "text/plain": [
       "[<matplotlib.lines.Line2D at 0x7f6515fd38d0>]"
      ]
     },
     "execution_count": 130,
     "metadata": {},
     "output_type": "execute_result"
    },
    {
     "data": {
      "image/png": "[encoded data removed]",
      "text/plain": [
       "<Figure size 432x288 with 1 Axes>"
      ]
     },
     "metadata": {
      "needs_background": "light"
     },
     "output_type": "display_data"
    }
   ],
   "source": [
    "plt.plot(x)"
   ]
  },
  {
   "cell_type": "code",
   "execution_count": 131,
   "id": "199f7d0d-404b-487a-b0bd-8ba10cb39cc2",
   "metadata": {},
   "outputs": [
    {
     "data": {
      "text/plain": [
       "0.850404576490565"
      ]
     },
     "execution_count": 131,
     "metadata": {},
     "output_type": "execute_result"
    }
   ],
   "source": [
    "x[25000]"
   ]
  },
  {
   "cell_type": "code",
   "execution_count": 1,
   "id": "27651738-3782-4930-a4af-c420aaf768d9",
   "metadata": {},
   "outputs": [
    {
     "name": "stdout",
     "output_type": "stream",
     "text": [
      "/opt/ml\n"
     ]
    }
   ],
   "source": [
    "cd"
   ]
  },
  {
   "cell_type": "code",
   "execution_count": 1,
   "id": "5eace19e-daf0-4ad3-aaa8-c03137a38735",
   "metadata": {},
   "outputs": [
    {
     "name": "stdout",
     "output_type": "stream",
     "text": [
      "[Errno 2] No such file or directory: 'sorry_math_but_love_you'\n",
      "/opt/ml/sorry_math_but_love_you\n"
     ]
    }
   ],
   "source": [
    "cd sorry_math_but_love_you"
   ]
  },
  {
   "cell_type": "code",
   "execution_count": 5,
   "id": "ee176d42-1da6-4516-bc16-46622bde8ac8",
   "metadata": {},
   "outputs": [
    {
     "name": "stdout",
     "output_type": "stream",
     "text": [
      "ASDFASDFASDFASDFASDF\n",
      "ASDFASDFASDFASDFASDF\n",
      "ASDFASDFASDFASDFASDF\n",
      "--------------------------------\n",
      "Running MySATRN on device cuda\n",
      "\n",
      "100%|█████████████████████████████████████████████| 8/8 [01:08<00:00,  8.67s/it]\n"
     ]
    }
   ],
   "source": [
    "!python inference.py"
   ]
  },
  {
   "cell_type": "code",
   "execution_count": null,
   "id": "5e96bc7f-178f-4174-af48-ce2203b5811f",
   "metadata": {},
   "outputs": [],
   "source": []
  },
  {
   "cell_type": "code",
   "execution_count": null,
   "id": "084f3559-6154-45b5-9b75-e973b791b52d",
   "metadata": {},
   "outputs": [],
   "source": []
  }
 ],
 "metadata": {
  "kernelspec": {
   "display_name": "Python 3",
   "language": "python",
   "name": "python3"
  },
  "language_info": {
   "codemirror_mode": {
    "name": "ipython",
    "version": 3
   },
   "file_extension": ".py",
   "mimetype": "text/x-python",
   "name": "python",
   "nbconvert_exporter": "python",
   "pygments_lexer": "ipython3",
   "version": "3.7.7"
  }
 },
 "nbformat": 4,
 "nbformat_minor": 5
}
